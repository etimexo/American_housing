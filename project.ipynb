{
 "cells": [
  {
   "cell_type": "code",
   "execution_count": 59,
   "metadata": {},
   "outputs": [],
   "source": [
    "# Import necessary packages\n",
    "import numpy as np\n",
    "import pandas as pd\n",
    "import seaborn as sns\n",
    "import matplotlib.pyplot as plt\n",
    "import sklearn\n",
    "import pickle\n",
    "from sklearn import linear_model\n",
    "from sklearn.linear_model import LinearRegression\n",
    "from sklearn.model_selection import train_test_split\n",
    "from sklearn.compose import ColumnTransformer\n",
    "from sklearn.impute import SimpleImputer\n",
    "from sklearn.pipeline import Pipeline\n",
    "from sklearn.preprocessing import OneHotEncoder\n",
    "# pd.set_option('display.max_columns', None)  # Show all columns\n",
    "# pd.set_option('display.expand_frame_repr', False)  # Do not wrap lines\n",
    "# pd.set_option('display.width', 0)  # Automatically adjust the width to the terminal"
   ]
  },
  {
   "cell_type": "code",
   "execution_count": 60,
   "metadata": {},
   "outputs": [],
   "source": [
    "# Import dataset\n",
    "df = pd.read_csv('american_housing_data.csv')"
   ]
  },
  {
   "cell_type": "code",
   "execution_count": 61,
   "metadata": {},
   "outputs": [
    {
     "name": "stdout",
     "output_type": "stream",
     "text": [
      "                           count           mean            std          min           25%           50%           75%           max\n",
      "Zip Code                 39981.0   64833.391336   25614.601116  10013.00000   40215.00000   74136.00000   85730.00000  9.819900e+04\n",
      "Price                    39981.0  622777.118481  946979.305294   1800.00000  265000.00000  399900.00000  674990.00000  3.800000e+07\n",
      "Beds                     39981.0       3.171682       1.308796      1.00000       3.00000       3.00000       4.00000  5.400000e+01\n",
      "Baths                    39981.0       2.466572       1.323042      1.00000       2.00000       2.00000       3.00000  6.600000e+01\n",
      "Living Space             39981.0    1901.522723    1211.307257      2.00000    1200.00000    1639.00000    2265.00000  7.434000e+04\n",
      "Zip Code Population      39981.0   37726.201996   18672.647445      0.00000   24465.00000   35049.00000   46816.00000  1.164690e+05\n",
      "Zip Code Density         39981.0    2379.412483    2946.574792      0.00000     902.40000    1588.70000    2736.80000  5.828960e+04\n",
      "Median Household Income  39979.0  110837.259861   47309.055715  27475.00000   76640.00000  100405.00000  135075.00000  9.002030e+05\n",
      "Latitude                 39981.0      36.435668       4.446862     25.72983      33.23985      36.16662      39.28309  4.774237e+01\n",
      "Longitude                39981.0     -98.080576      15.061145   -122.82687    -111.63631     -96.83968     -85.65698 -7.370451e+01\n",
      "Zip Code                   0\n",
      "Price                      0\n",
      "Beds                       0\n",
      "Baths                      0\n",
      "Living Space               0\n",
      "Address                    0\n",
      "City                       0\n",
      "State                      0\n",
      "Zip Code Population        0\n",
      "Zip Code Density           0\n",
      "County                     0\n",
      "Median Household Income    2\n",
      "Latitude                   0\n",
      "Longitude                  0\n",
      "dtype: int64\n"
     ]
    }
   ],
   "source": [
    "# View the data and check for missing values\n",
    "print(df.describe().T)\n",
    "print(df.isna().sum())"
   ]
  },
  {
   "cell_type": "code",
   "execution_count": 62,
   "metadata": {},
   "outputs": [
    {
     "name": "stdout",
     "output_type": "stream",
     "text": [
      "   Zip Code      Price  Beds  Baths  Living Space                Address      City     State  Zip Code Population  Zip Code Density    County  Median Household Income\n",
      "0     10013  3999000.0     2      3          1967      74 GRAND ST APT 3  New York  New York                29563           20967.9  New York                 370046.0\n",
      "1     10013  3999000.0     2      3          1967      74 GRAND ST APT 3  New York  New York                29563           20967.9  New York                 370046.0\n",
      "2     10014  1650000.0     1      1           718  140 CHARLES ST APT 4D  New York  New York                29815           23740.9  New York                 249880.0\n",
      "3     10014   760000.0     3      2          1538            38 JONES ST  New York  New York                29815           23740.9  New York                 249880.0\n",
      "4     10014  1100000.0     1      1           600   81 BEDFORD ST APT 3F  New York  New York                29815           23740.9  New York                 249880.0\n"
     ]
    }
   ],
   "source": [
    "# Drop missing values in Median Household Income column\n",
    "df = df.dropna(subset=['Median Household Income'])\n",
    "\n",
    "# Drop Latitude and Longitude columns\n",
    "df.drop(columns=[\"Latitude\", \"Longitude\"], inplace=True)\n",
    "print(df.head())"
   ]
  },
  {
   "cell_type": "code",
   "execution_count": 63,
   "metadata": {},
   "outputs": [
    {
     "name": "stdout",
     "output_type": "stream",
     "text": [
      "                           count           mean            std      min       25%       50%       75%         max\n",
      "Zip Code                 39979.0   64832.585632   25614.988511  10013.0   40215.0   74136.0   85730.0     98199.0\n",
      "Price                    39979.0  622782.635233  947002.598473   1800.0  265000.0  399900.0  674990.0  38000000.0\n",
      "Beds                     39979.0       3.171615       1.308752      1.0       3.0       3.0       4.0        54.0\n",
      "Baths                    39979.0       2.466520       1.323050      1.0       2.0       2.0       3.0        66.0\n",
      "Living Space             39979.0    1901.505090    1211.321442      2.0    1200.0    1639.0    2265.0     74340.0\n",
      "Zip Code Population      39979.0   37728.089297   18671.207769     39.0   24465.0   35049.0   46835.0    116469.0\n",
      "Zip Code Density         39979.0    2379.531517    2946.600433      0.6     902.4    1588.7    2736.8     58289.6\n",
      "Median Household Income  39979.0  110837.259861   47309.055715  27475.0   76640.0  100405.0  135075.0    900203.0\n",
      "                           count           mean            std      min       25%       50%       75%        max\n",
      "Zip Code                 36416.0   63954.312939   25245.564352  10014.0   40214.0   73162.0   85207.0    98199.0\n",
      "Price                    36416.0  437502.541162  259549.528522   1800.0  250000.0  375000.0  567000.0  1289950.0\n",
      "Beds                     36416.0       3.065658       1.045419      1.0       2.0       3.0       4.0       22.0\n",
      "Baths                    36416.0       2.299923       0.948404      1.0       2.0       2.0       3.0       21.0\n",
      "Living Space             36416.0    1743.278229     898.280441      2.0    1174.0    1584.0    2122.0    74340.0\n",
      "Zip Code Population      36416.0   37999.240938   18857.133011     39.0   24700.0   35199.0   47158.0   116469.0\n",
      "Zip Code Density         36416.0    2223.572032    2738.522942      0.6     864.3    1524.4    2529.8    58289.6\n",
      "Median Household Income  36416.0  104850.450654   41233.627161  27475.0   74618.0   96940.0  127287.0   389928.0\n"
     ]
    }
   ],
   "source": [
    "\n",
    "# 75th percentile\n",
    "seventy_fifth = df[\"Price\"].quantile(0.75)\n",
    "\n",
    "# 25th percentile\n",
    "twenty_fifth = df[\"Price\"].quantile(0.25)\n",
    "\n",
    "# Interquartile range\n",
    "prices_iqr = seventy_fifth - twenty_fifth\n",
    "\n",
    "# Upper threshold\n",
    "upper = seventy_fifth + (1.5 * prices_iqr)\n",
    "\n",
    "# Lower threshold\n",
    "lower = twenty_fifth - (1.5 * prices_iqr)\n",
    "\n",
    "df_mod = df[(df[\"Price\"] > lower) & (df[\"Price\"] < upper)]\n",
    "# Compare datasets before and after removing outliers\n",
    "print(df.describe().T) # Before\n",
    "print(df_mod.describe().T) # After\n"
   ]
  },
  {
   "cell_type": "code",
   "execution_count": 64,
   "metadata": {},
   "outputs": [
    {
     "name": "stderr",
     "output_type": "stream",
     "text": [
      "C:\\Users\\TEO\\AppData\\Local\\Temp\\ipykernel_12276\\3254716895.py:4: SettingWithCopyWarning: \n",
      "A value is trying to be set on a copy of a slice from a DataFrame.\n",
      "Try using .loc[row_indexer,col_indexer] = value instead\n",
      "\n",
      "See the caveats in the documentation: https://pandas.pydata.org/pandas-docs/stable/user_guide/indexing.html#returning-a-view-versus-a-copy\n",
      "  df_mod[[\"Beds\", \"Baths\", \"Living Space\", \"Zip Code Population\", \"Zip Code\"]] = df_mod[[\"Beds\", \"Baths\", \"Living Space\", \"Zip Code Population\", \"Zip Code\"]].astype(float)\n"
     ]
    },
    {
     "name": "stdout",
     "output_type": "stream",
     "text": [
      "Accuracy: 0.641614708832563\n",
      "Predicted: 152477.21733007726, Features: [3.0, 1.0, 1080.0, 'Columbus', 'Ohio', 46038.0, 768.8, 67173.0], Actual: 234900.0\n",
      "Predicted: 494243.4763292466, Features: [1.0, 1.0, 630.0, 'Seattle', 'Washington', 52210.0, 4397.0, 167932.0], Actual: 379900.0\n",
      "Predicted: 251402.3632422606, Features: [4.0, 2.0, 1968.0, 'Kansas City', 'Kansas', 30874.0, 1038.0, 61534.0], Actual: 240000.0\n",
      "Predicted: 307911.927814981, Features: [3.0, 2.0, 1160.0, 'Philadelphia', 'Pennsylvania', 45642.0, 9964.3, 58668.0], Actual: 155000.0\n",
      "Predicted: 715488.2217987448, Features: [3.0, 2.0, 1572.0, 'Nashville', 'Tennessee', 6481.0, 324.5, 230199.0], Actual: 649900.0\n",
      "Predicted: 414480.59537895786, Features: [4.0, 3.0, 1800.0, 'Philadelphia', 'Pennsylvania', 38840.0, 2147.0, 107171.0], Actual: 419900.0\n",
      "Predicted: 343944.8262224771, Features: [3.0, 2.0, 1249.0, 'Edmond', 'Oklahoma', 42003.0, 476.0, 140148.0], Actual: 256990.0\n",
      "Predicted: 573274.299873845, Features: [5.0, 4.0, 3125.0, 'Manor', 'Texas', 30955.0, 113.5, 104187.0], Actual: 527653.0\n",
      "Predicted: 174281.19771606696, Features: [3.0, 2.0, 1136.0, 'El Paso', 'Texas', 91575.0, 90.6, 86064.0], Actual: 189950.0\n",
      "Predicted: 159785.36586127424, Features: [3.0, 2.0, 1200.0, 'Detroit', 'Michigan', 57005.0, 2471.4, 46566.0], Actual: 134900.0\n"
     ]
    }
   ],
   "source": [
    "# prepare for modeling\n",
    "\n",
    "# Store [\"Beds\", \"Baths\", \"Living Space\", \"Zip Code Population\", \"Zip Code\"] columns as float values\n",
    "df_mod[[\"Beds\", \"Baths\", \"Living Space\", \"Zip Code Population\", \"Zip Code\"]] = df_mod[[\"Beds\", \"Baths\", \"Living Space\", \"Zip Code Population\", \"Zip Code\"]].astype(float)\n",
    "\n",
    "# Fix column name spelling error in dataset\n",
    "df_mod = df_mod.rename(columns={\"County\":\"Country\"})\n",
    "\n",
    "features = ['Beds', 'Baths', 'Living Space', 'City', 'State', 'Zip Code Population', 'Zip Code Density', 'Median Household Income']\n",
    "target = 'Price'\n",
    "\n",
    "X = df_mod[features]\n",
    "y = df_mod[target]\n",
    "\n",
    "# Preprocessing pipelines for numeric and categorical data\n",
    "numeric_features = ['Beds', 'Baths', 'Living Space', 'Zip Code Population', 'Zip Code Density', 'Median Household Income']\n",
    "categorical_features = ['City', 'State']\n",
    "\n",
    "numeric_transformer = Pipeline(steps=[\n",
    "    ('imputer', SimpleImputer(strategy='mean'))\n",
    "])\n",
    "\n",
    "categorical_transformer = Pipeline(steps=[\n",
    "    ('imputer', SimpleImputer(strategy='constant', fill_value='missing')),\n",
    "    ('onehot', OneHotEncoder(handle_unknown='ignore'))\n",
    "])\n",
    "\n",
    "preprocessor = ColumnTransformer(\n",
    "    transformers=[\n",
    "        ('num', numeric_transformer, numeric_features),\n",
    "        ('cat', categorical_transformer, categorical_features)\n",
    "    ])\n",
    "\n",
    "# Define the model pipeline\n",
    "model = Pipeline(steps=[('preprocessor', preprocessor),\n",
    "                        ('regressor', LinearRegression())])\n",
    "\n",
    "# Split the data\n",
    "X_train, X_test, y_train, y_test = train_test_split(X, y, test_size=0.1, random_state=42)\n",
    "\n",
    "# Fit the model\n",
    "model.fit(X_train, y_train)\n",
    "\n",
    "# Evaluate the model\n",
    "acc = model.score(X_test, y_test)\n",
    "print(\"Accuracy: \" + str(acc))\n",
    "\n",
    "# Save the model\n",
    "with open(\"american_housing.pickle\", \"wb\") as f:\n",
    "    pickle.dump(model, f)\n",
    "\n",
    "# Load the model and make predictions\n",
    "with open(\"american_housing.pickle\", \"rb\") as f:\n",
    "    model = pickle.load(f)\n",
    "\n",
    "predicted = model.predict(X_test)\n",
    "for i in range(10):\n",
    "    print(f\"Predicted: {predicted[i]}, Features: {X_test.iloc[i].tolist()}, Actual: {y_test.iloc[i]}\")\n",
    "\n"
   ]
  }
 ],
 "metadata": {
  "kernelspec": {
   "display_name": "env",
   "language": "python",
   "name": "python3"
  },
  "language_info": {
   "codemirror_mode": {
    "name": "ipython",
    "version": 3
   },
   "file_extension": ".py",
   "mimetype": "text/x-python",
   "name": "python",
   "nbconvert_exporter": "python",
   "pygments_lexer": "ipython3",
   "version": "3.11.5"
  }
 },
 "nbformat": 4,
 "nbformat_minor": 2
}
