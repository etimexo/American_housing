{
 "cells": [
  {
   "cell_type": "code",
   "execution_count": 16,
   "metadata": {},
   "outputs": [],
   "source": [
    "# Import necessary packages\n",
    "import numpy as np\n",
    "import pandas as pd\n",
    "import seaborn as sns\n",
    "import matplotlib.pyplot as plt\n",
    "import sklearn\n",
    "import pickle\n",
    "from sklearn import linear_model\n",
    "from sklearn.model_selection import train_test_split\n",
    "pd.set_option('display.max_columns', None)  # Show all columns\n",
    "pd.set_option('display.expand_frame_repr', False)  # Do not wrap lines\n",
    "pd.set_option('display.width', 0)  # Automatically adjust the width to the terminal"
   ]
  },
  {
   "cell_type": "code",
   "execution_count": 17,
   "metadata": {},
   "outputs": [],
   "source": [
    "# Import dataset\n",
    "df = pd.read_csv('american_housing_data.csv')"
   ]
  },
  {
   "cell_type": "code",
   "execution_count": 18,
   "metadata": {},
   "outputs": [
    {
     "name": "stdout",
     "output_type": "stream",
     "text": [
      "                           count           mean            std          min           25%           50%           75%           max\n",
      "Zip Code                 39981.0   64833.391336   25614.601116  10013.00000   40215.00000   74136.00000   85730.00000  9.819900e+04\n",
      "Price                    39981.0  622777.118481  946979.305294   1800.00000  265000.00000  399900.00000  674990.00000  3.800000e+07\n",
      "Beds                     39981.0       3.171682       1.308796      1.00000       3.00000       3.00000       4.00000  5.400000e+01\n",
      "Baths                    39981.0       2.466572       1.323042      1.00000       2.00000       2.00000       3.00000  6.600000e+01\n",
      "Living Space             39981.0    1901.522723    1211.307257      2.00000    1200.00000    1639.00000    2265.00000  7.434000e+04\n",
      "Zip Code Population      39981.0   37726.201996   18672.647445      0.00000   24465.00000   35049.00000   46816.00000  1.164690e+05\n",
      "Zip Code Density         39981.0    2379.412483    2946.574792      0.00000     902.40000    1588.70000    2736.80000  5.828960e+04\n",
      "Median Household Income  39979.0  110837.259861   47309.055715  27475.00000   76640.00000  100405.00000  135075.00000  9.002030e+05\n",
      "Latitude                 39981.0      36.435668       4.446862     25.72983      33.23985      36.16662      39.28309  4.774237e+01\n",
      "Longitude                39981.0     -98.080576      15.061145   -122.82687    -111.63631     -96.83968     -85.65698 -7.370451e+01\n",
      "Zip Code                   0\n",
      "Price                      0\n",
      "Beds                       0\n",
      "Baths                      0\n",
      "Living Space               0\n",
      "Address                    0\n",
      "City                       0\n",
      "State                      0\n",
      "Zip Code Population        0\n",
      "Zip Code Density           0\n",
      "County                     0\n",
      "Median Household Income    2\n",
      "Latitude                   0\n",
      "Longitude                  0\n",
      "dtype: int64\n"
     ]
    }
   ],
   "source": [
    "# View the data and check for missing values\n",
    "print(df.describe().T)\n",
    "print(df.isna().sum())"
   ]
  },
  {
   "cell_type": "code",
   "execution_count": 19,
   "metadata": {},
   "outputs": [
    {
     "name": "stdout",
     "output_type": "stream",
     "text": [
      "   Zip Code      Price  Beds  Baths  Living Space                Address      City     State  Zip Code Population  Zip Code Density    County  Median Household Income\n",
      "0     10013  3999000.0     2      3          1967      74 GRAND ST APT 3  New York  New York                29563           20967.9  New York                 370046.0\n",
      "1     10013  3999000.0     2      3          1967      74 GRAND ST APT 3  New York  New York                29563           20967.9  New York                 370046.0\n",
      "2     10014  1650000.0     1      1           718  140 CHARLES ST APT 4D  New York  New York                29815           23740.9  New York                 249880.0\n",
      "3     10014   760000.0     3      2          1538            38 JONES ST  New York  New York                29815           23740.9  New York                 249880.0\n",
      "4     10014  1100000.0     1      1           600   81 BEDFORD ST APT 3F  New York  New York                29815           23740.9  New York                 249880.0\n"
     ]
    }
   ],
   "source": [
    "# Drop missing values in Median Household Income column\n",
    "df = df.dropna(subset=['Median Household Income'])\n",
    "\n",
    "# Drop Latitude and Longitude columns\n",
    "df.drop(columns=[\"Latitude\", \"Longitude\"], inplace=True)\n",
    "print(df.head())"
   ]
  },
  {
   "cell_type": "code",
   "execution_count": 28,
   "metadata": {},
   "outputs": [
    {
     "name": "stdout",
     "output_type": "stream",
     "text": [
      "                           count           mean            std      min       25%       50%       75%         max\n",
      "Zip Code                 39979.0   64832.585632   25614.988511  10013.0   40215.0   74136.0   85730.0     98199.0\n",
      "Price                    39979.0  622782.635233  947002.598473   1800.0  265000.0  399900.0  674990.0  38000000.0\n",
      "Beds                     39979.0       3.171615       1.308752      1.0       3.0       3.0       4.0        54.0\n",
      "Baths                    39979.0       2.466520       1.323050      1.0       2.0       2.0       3.0        66.0\n",
      "Living Space             39979.0    1901.505090    1211.321442      2.0    1200.0    1639.0    2265.0     74340.0\n",
      "Zip Code Population      39979.0   37728.089297   18671.207769     39.0   24465.0   35049.0   46835.0    116469.0\n",
      "Zip Code Density         39979.0    2379.531517    2946.600433      0.6     902.4    1588.7    2736.8     58289.6\n",
      "Median Household Income  39979.0  110837.259861   47309.055715  27475.0   76640.0  100405.0  135075.0    900203.0\n",
      "                           count           mean            std      min       25%       50%       75%        max\n",
      "Zip Code                 36416.0   63954.312939   25245.564352  10014.0   40214.0   73162.0   85207.0    98199.0\n",
      "Price                    36416.0  437502.541162  259549.528522   1800.0  250000.0  375000.0  567000.0  1289950.0\n",
      "Beds                     36416.0       3.065658       1.045419      1.0       2.0       3.0       4.0       22.0\n",
      "Baths                    36416.0       2.299923       0.948404      1.0       2.0       2.0       3.0       21.0\n",
      "Living Space             36416.0    1743.278229     898.280441      2.0    1174.0    1584.0    2122.0    74340.0\n",
      "Zip Code Population      36416.0   37999.240938   18857.133011     39.0   24700.0   35199.0   47158.0   116469.0\n",
      "Zip Code Density         36416.0    2223.572032    2738.522942      0.6     864.3    1524.4    2529.8    58289.6\n",
      "Median Household Income  36416.0  104850.450654   41233.627161  27475.0   74618.0   96940.0  127287.0   389928.0\n"
     ]
    }
   ],
   "source": [
    "\n",
    "# 75th percentile\n",
    "seventy_fifth = df[\"Price\"].quantile(0.75)\n",
    "\n",
    "# 25th percentile\n",
    "twenty_fifth = df[\"Price\"].quantile(0.25)\n",
    "\n",
    "# Interquartile range\n",
    "prices_iqr = seventy_fifth - twenty_fifth\n",
    "\n",
    "# Upper threshold\n",
    "upper = seventy_fifth + (1.5 * prices_iqr)\n",
    "\n",
    "# Lower threshold\n",
    "lower = twenty_fifth - (1.5 * prices_iqr)\n",
    "\n",
    "df_mod = df[(df[\"Price\"] > lower) & (df[\"Price\"] < upper)]\n",
    "# Compare datasets before and after removing outliers\n",
    "print(df.describe().T) # Before\n",
    "print(df_mod.describe().T) # After\n"
   ]
  },
  {
   "cell_type": "code",
   "execution_count": null,
   "metadata": {},
   "outputs": [],
   "source": []
  }
 ],
 "metadata": {
  "kernelspec": {
   "display_name": "env",
   "language": "python",
   "name": "python3"
  },
  "language_info": {
   "codemirror_mode": {
    "name": "ipython",
    "version": 3
   },
   "file_extension": ".py",
   "mimetype": "text/x-python",
   "name": "python",
   "nbconvert_exporter": "python",
   "pygments_lexer": "ipython3",
   "version": "3.11.5"
  }
 },
 "nbformat": 4,
 "nbformat_minor": 2
}
