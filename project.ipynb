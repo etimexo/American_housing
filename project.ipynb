{
 "cells": [
  {
   "cell_type": "code",
   "execution_count": 1,
   "metadata": {},
   "outputs": [],
   "source": [
    "# Import necessary packages\n",
    "import numpy as np\n",
    "import pandas as pd\n",
    "import seaborn as sns\n",
    "import matplotlib.pyplot as plt\n",
    "import sklearn\n",
    "import pickle\n",
    "from sklearn import linear_model\n",
    "from sklearn.model_selection import train_test_split"
   ]
  },
  {
   "cell_type": "code",
   "execution_count": 3,
   "metadata": {},
   "outputs": [],
   "source": [
    "# Import dataset\n",
    "df = pd.read_csv('american_housing_data.csv')"
   ]
  },
  {
   "cell_type": "code",
   "execution_count": 5,
   "metadata": {},
   "outputs": [
    {
     "name": "stdout",
     "output_type": "stream",
     "text": [
      "                           count           mean            std          min  \\\n",
      "Zip Code                 39981.0   64833.391336   25614.601116  10013.00000   \n",
      "Price                    39981.0  622777.118481  946979.305294   1800.00000   \n",
      "Beds                     39981.0       3.171682       1.308796      1.00000   \n",
      "Baths                    39981.0       2.466572       1.323042      1.00000   \n",
      "Living Space             39981.0    1901.522723    1211.307257      2.00000   \n",
      "Zip Code Population      39981.0   37726.201996   18672.647445      0.00000   \n",
      "Zip Code Density         39981.0    2379.412483    2946.574792      0.00000   \n",
      "Median Household Income  39979.0  110837.259861   47309.055715  27475.00000   \n",
      "Latitude                 39981.0      36.435668       4.446862     25.72983   \n",
      "Longitude                39981.0     -98.080576      15.061145   -122.82687   \n",
      "\n",
      "                                  25%           50%           75%  \\\n",
      "Zip Code                  40215.00000   74136.00000   85730.00000   \n",
      "Price                    265000.00000  399900.00000  674990.00000   \n",
      "Beds                          3.00000       3.00000       4.00000   \n",
      "Baths                         2.00000       2.00000       3.00000   \n",
      "Living Space               1200.00000    1639.00000    2265.00000   \n",
      "Zip Code Population       24465.00000   35049.00000   46816.00000   \n",
      "Zip Code Density            902.40000    1588.70000    2736.80000   \n",
      "Median Household Income   76640.00000  100405.00000  135075.00000   \n",
      "Latitude                     33.23985      36.16662      39.28309   \n",
      "Longitude                  -111.63631     -96.83968     -85.65698   \n",
      "\n",
      "                                  max  \n",
      "Zip Code                 9.819900e+04  \n",
      "Price                    3.800000e+07  \n",
      "Beds                     5.400000e+01  \n",
      "Baths                    6.600000e+01  \n",
      "Living Space             7.434000e+04  \n",
      "Zip Code Population      1.164690e+05  \n",
      "Zip Code Density         5.828960e+04  \n",
      "Median Household Income  9.002030e+05  \n",
      "Latitude                 4.774237e+01  \n",
      "Longitude               -7.370451e+01  \n",
      "Zip Code                   0\n",
      "Price                      0\n",
      "Beds                       0\n",
      "Baths                      0\n",
      "Living Space               0\n",
      "Address                    0\n",
      "City                       0\n",
      "State                      0\n",
      "Zip Code Population        0\n",
      "Zip Code Density           0\n",
      "County                     0\n",
      "Median Household Income    2\n",
      "Latitude                   0\n",
      "Longitude                  0\n",
      "dtype: int64\n"
     ]
    }
   ],
   "source": [
    "# View the data and check for missing values\n",
    "print(df.describe().T)\n",
    "print(df.isna().sum())"
   ]
  },
  {
   "cell_type": "code",
   "execution_count": null,
   "metadata": {},
   "outputs": [],
   "source": []
  }
 ],
 "metadata": {
  "kernelspec": {
   "display_name": "env",
   "language": "python",
   "name": "python3"
  },
  "language_info": {
   "codemirror_mode": {
    "name": "ipython",
    "version": 3
   },
   "file_extension": ".py",
   "mimetype": "text/x-python",
   "name": "python",
   "nbconvert_exporter": "python",
   "pygments_lexer": "ipython3",
   "version": "3.11.5"
  }
 },
 "nbformat": 4,
 "nbformat_minor": 2
}
